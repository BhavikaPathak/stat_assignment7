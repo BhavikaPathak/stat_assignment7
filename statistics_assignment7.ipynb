{
 "cells": [
  {
   "cell_type": "markdown",
   "id": "87137884-4625-4942-85ee-31f479f2c93c",
   "metadata": {},
   "source": [
    "# ANSWER 1"
   ]
  },
  {
   "cell_type": "code",
   "execution_count": 1,
   "id": "1ad9799b-3208-4769-8cea-f41c593818f6",
   "metadata": {},
   "outputs": [
    {
     "name": "stdout",
     "output_type": "stream",
     "text": [
      "95% Confidence Interval: (49.02001800772997, 50.97998199227003)\n"
     ]
    }
   ],
   "source": [
    "import scipy.stats as stats\n",
    "\n",
    "sample_mean = 50\n",
    "sample_std_dev = 5\n",
    "confidence_level = 0.95\n",
    "sample_size = 100\n",
    "\n",
    "standard_error = sample_std_dev / (sample_size**0.5)\n",
    "\n",
    "confidence_interval = stats.norm.interval(confidence_level, loc=sample_mean, scale=standard_error)\n",
    "\n",
    "print(\"95% Confidence Interval:\", confidence_interval)"
   ]
  },
  {
   "cell_type": "markdown",
   "id": "a76d944d-860f-45b1-a8cb-cf6bcbadba19",
   "metadata": {},
   "source": [
    "The 95% confidence interval for the given sample data with a mean of 50 and a standard deviation of 5 is a range of values within which we can be 95% confident that the true population mean lies. This means if we were to take multiple samples and calculate their confidence intervals, approximately 95% of those intervals would contain the true population mean.The 95% confidence interval for the given sample data with a mean of 50 and a standard deviation of 5 is a range of values within which we can be 95% confident that the true population mean lies. This means if we were to take multiple samples and calculate their confidence intervals, approximately 95% of those intervals would contain the true population mean.The 95% confidence interval for the given sample data with a mean of 50 and a standard deviation of 5 is a range of values within which we can be 95% confident that the true population mean lies. This means if we were to take multiple samples and calculate their confidence intervals, approximately 95% of those intervals would contain the true population mean."
   ]
  },
  {
   "cell_type": "markdown",
   "id": "743b7469-6672-4587-b7db-6f08da44e57a",
   "metadata": {},
   "source": [
    "# ANSWER 2"
   ]
  },
  {
   "cell_type": "code",
   "execution_count": 2,
   "id": "9d311489-3f6c-4cbc-a046-5fd43460fe82",
   "metadata": {},
   "outputs": [
    {
     "name": "stdout",
     "output_type": "stream",
     "text": [
      "Chi-square statistic: 0.7000000000000001\n",
      "P-value: 0.9829686751880324\n",
      "The distribution of colors of M&Ms in the bag matches the expected distribution.\n"
     ]
    }
   ],
   "source": [
    "# actual distribution\n",
    "observed_frequencies = [18, 22, 19, 9, 11, 21]\n",
    "\n",
    "# expected distribution\n",
    "expected_frequencies = [0.2, 0.2, 0.2, 0.1, 0.1, 0.2]  # Multiply these by the total number of M&Ms\n",
    "\n",
    "# Total number of M&Ms (sum of observed frequencies)\n",
    "total_mms = sum(observed_frequencies)\n",
    "\n",
    "#the expected frequencies \n",
    "expected_frequencies = [expected * total_mms for expected in expected_frequencies]\n",
    "\n",
    "#the chi-square test\n",
    "chi2, p_value = stats.chisquare(observed_frequencies, expected_frequencies)\n",
    "\n",
    "#the significance level\n",
    "alpha = 0.05\n",
    "\n",
    "print(\"Chi-square statistic:\", chi2)\n",
    "print(\"P-value:\", p_value)\n",
    "\n",
    "if p_value < alpha:\n",
    "    print(\"The distribution of colors of M&Ms in the bag does not match the expected distribution.\")\n",
    "else:\n",
    "    print(\"The distribution of colors of M&Ms in the bag matches the expected distribution.\")\n"
   ]
  },
  {
   "cell_type": "markdown",
   "id": "eb312b4e-b4e8-4889-9096-49937a986761",
   "metadata": {},
   "source": [
    "Interpretation:\n",
    "The chi-square goodness of fit test is used to determine whether the observed distribution of colors in the bag of M&Ms matches the expected distribution. The null hypothesis assumes that the distributions are the same. If the p-value (probability value) is less than the chosen significance level (0.05 in this case), we reject the null hypothesis, indicating that there is a significant difference between the observed and expected distributions. On the other hand, if the p-value is greater than the significance level, we fail to reject the null hypothesis, suggesting that the observed distribution is not significantly different from the expected distribution."
   ]
  },
  {
   "cell_type": "markdown",
   "id": "60ff827d-8adf-4c83-8a61-7834e12f9ff9",
   "metadata": {},
   "source": [
    "# ANSWER 3"
   ]
  },
  {
   "cell_type": "code",
   "execution_count": 5,
   "id": "3a734a4f-c505-46b5-bb92-34f1fa07519d",
   "metadata": {},
   "outputs": [
    {
     "name": "stdout",
     "output_type": "stream",
     "text": [
      "Chi-square statistic: 5.833333333333334\n",
      "P-value: 0.05411376622282158\n",
      "There is no significant association between the groups and the outcomes.\n"
     ]
    }
   ],
   "source": [
    "import numpy as np\n",
    "import scipy.stats as stats\n",
    "\n",
    "# Given data in the form of a 2D array (contingency table)\n",
    "data = np.array([[20, 15],\n",
    "                 [10, 25],\n",
    "                 [15, 20]])\n",
    "\n",
    "# Perform the chi-square test\n",
    "chi2, p_value, _, _ = stats.chi2_contingency(data)\n",
    "\n",
    "print(\"Chi-square statistic:\", chi2)\n",
    "print(\"P-value:\", p_value)\n",
    "\n",
    "# Set the significance level\n",
    "alpha = 0.05\n",
    "\n",
    "if p_value < alpha:\n",
    "    print(\"There is a significant association between the groups and the outcomes.\")\n",
    "else:\n",
    "    print(\"There is no significant association between the groups and the outcomes.\")\n",
    "    "
   ]
  },
  {
   "cell_type": "markdown",
   "id": "b8641c6e-1818-4194-9178-c653eb2ebc31",
   "metadata": {},
   "source": [
    "Interpretation:\n",
    "The chi-square test was conducted to determine whether there is a significant association between the groups (Group A and Group B) and the outcomes (Outcome 1, Outcome 2, and Outcome 3). The null hypothesis assumes that the two categorical variables (groups and outcomes) are independent of each other."
   ]
  },
  {
   "cell_type": "markdown",
   "id": "a6d21bf5-0851-40bb-9e33-2009a0013a9b",
   "metadata": {},
   "source": [
    "# ANSWER 4"
   ]
  },
  {
   "cell_type": "code",
   "execution_count": 6,
   "id": "3b8e927c-50a7-473c-8a9a-247ff20934cd",
   "metadata": {},
   "outputs": [
    {
     "name": "stdout",
     "output_type": "stream",
     "text": [
      "95% Confidence Interval for the proportion of individuals who smoke: (0.09151638887130706, 0.14848361112869293)\n"
     ]
    }
   ],
   "source": [
    "import statsmodels.stats.proportion as proportion\n",
    "\n",
    "# Given data\n",
    "total_population = 500\n",
    "individuals_smoke = 60\n",
    "\n",
    "# Calculate the proportion of individuals who smoke\n",
    "sample_proportion = individuals_smoke / total_population\n",
    "\n",
    "# Calculate the confidence interval\n",
    "confidence_interval = proportion.proportion_confint(individuals_smoke, total_population, alpha=0.05, method='normal')\n",
    "\n",
    "print(\"95% Confidence Interval for the proportion of individuals who smoke:\", confidence_interval)"
   ]
  },
  {
   "cell_type": "markdown",
   "id": "bd79f339-3ee1-42ae-9b61-6d9ada3af076",
   "metadata": {},
   "source": [
    "# ANSWER 5"
   ]
  },
  {
   "cell_type": "code",
   "execution_count": 7,
   "id": "6cb33fc3-37f5-4e04-8c7a-3db78471cdc0",
   "metadata": {},
   "outputs": [
    {
     "name": "stdout",
     "output_type": "stream",
     "text": [
      "90% Confidence Interval: (73.02617564765823, 76.97382435234177)\n"
     ]
    }
   ],
   "source": [
    "sample_mean = 75\n",
    "sample_std_dev = 12\n",
    "confidence_level = 0.90\n",
    "# Sample size\n",
    "sample_size = 100\n",
    "# the standard error \n",
    "standard_error = sample_std_dev / (sample_size ** 0.5)\n",
    "#the confidence interval\n",
    "confidence_interval = stats.norm.interval(confidence_level, loc=sample_mean, scale=standard_error)\n",
    "print(\"90% Confidence Interval:\", confidence_interval)"
   ]
  },
  {
   "cell_type": "markdown",
   "id": "b7ee3fde-5dfb-46f9-a041-4fda3216b452",
   "metadata": {},
   "source": [
    "# ANSWER 6"
   ]
  },
  {
   "cell_type": "code",
   "execution_count": 9,
   "id": "8a96ae18-71ce-4be4-9879-06e6fa0aadb4",
   "metadata": {},
   "outputs": [
    {
     "data": {
      "image/png": "[encoded data removed]",
      "text/plain": [
       "<Figure size 640x480 with 1 Axes>"
      ]
     },
     "metadata": {},
     "output_type": "display_data"
    }
   ],
   "source": [
    "import numpy as np\n",
    "import matplotlib.pyplot as plt\n",
    "\n",
    "df = 10\n",
    "\n",
    "# Create a range of chi-square values for plotting\n",
    "x = np.linspace(0, 30, 500)\n",
    "\n",
    "# Calculate the chi-square probability density function (pdf) for the given degrees of freedom\n",
    "pdf = stats.chi2.pdf(x, df)\n",
    "\n",
    "# Plot the chi-square distribution\n",
    "plt.plot(x, pdf, label='Chi-square Distribution (df=10)')\n",
    "plt.xlabel('Chi-square Value')\n",
    "plt.ylabel('Probability Density')\n",
    "plt.title('Chi-square Distribution')\n",
    "plt.axvline(15, color='red', linestyle='-.', label='Chi-square Statistic (15)')\n",
    "plt.fill_between(x, pdf, where=(x >= 15), color='gray', alpha=0.5)\n",
    "plt.legend()\n",
    "plt.show()"
   ]
  },
  {
   "cell_type": "markdown",
   "id": "43f1dbcd-e957-46f8-9335-d6bf32d40521",
   "metadata": {},
   "source": [
    "# ANSWER 7"
   ]
  },
  {
   "cell_type": "code",
   "execution_count": 10,
   "id": "154434b9-9302-45d0-9562-8d0aa4bf0c9e",
   "metadata": {},
   "outputs": [
    {
     "name": "stdout",
     "output_type": "stream",
     "text": [
      "99% Confidence Interval for the proportion of people who prefer Coke: (0.4793051576779699, 0.5606948423220302)\n"
     ]
    }
   ],
   "source": [
    "total_sample = 1000\n",
    "people_prefer_coke = 520\n",
    "\n",
    "# the proportion of people who prefer Coke\n",
    "sample_proportion = people_prefer_coke / total_sample\n",
    "\n",
    "# the confidence interval\n",
    "confidence_interval = proportion.proportion_confint(people_prefer_coke, total_sample, alpha=0.01, method='normal')\n",
    "print(\"99% Confidence Interval for the proportion of people who prefer Coke:\", confidence_interval)"
   ]
  },
  {
   "cell_type": "markdown",
   "id": "a53a1b6c-3ca6-4371-af33-21329ff3bc84",
   "metadata": {},
   "source": [
    "# ANSWER 8 "
   ]
  },
  {
   "cell_type": "code",
   "execution_count": 12,
   "id": "bee0cb7e-0e32-4d22-b34a-161678a89601",
   "metadata": {},
   "outputs": [
    {
     "name": "stdout",
     "output_type": "stream",
     "text": [
      "Chi-square statistic: 1.0\n",
      "P-value: 0.31731050786291115\n",
      "The observed frequencies match the expected frequencies of a fair coin.\n",
      "Fail to reject the null hypothesis: There is no evidence of bias towards tails.\n"
     ]
    }
   ],
   "source": [
    "import scipy.stats as stats\n",
    "\n",
    "# Given observed frequencies\n",
    "observed_tails = 45\n",
    "total_flips = 100\n",
    "\n",
    "# Expected frequency for tails in a fair coin (assuming 50% probability for each outcome)\n",
    "expected_tails = total_flips * 0.5\n",
    "\n",
    "# Expected frequencies for heads is the complement of expected tails\n",
    "expected_heads = total_flips - expected_tails\n",
    "\n",
    "# Observed frequencies (tails, heads)\n",
    "observed_frequencies = [observed_tails, total_flips - observed_tails]\n",
    "\n",
    "# Expected frequencies (tails, heads)\n",
    "expected_frequencies = [expected_tails, expected_heads]\n",
    "chi2, p_value = stats.chisquare(observed_frequencies, expected_frequencies)\n",
    "# the significance level\n",
    "alpha = 0.05\n",
    "\n",
    "print(\"Chi-square statistic:\", chi2)\n",
    "print(\"P-value:\", p_value)\n",
    "\n",
    "if p_value < alpha:\n",
    "    print(\"The observed frequencies do not match the expected frequencies of a fair coin.\")\n",
    "    print(\"Reject the null hypothesis: The coin is biased towards tails.\")\n",
    "else:\n",
    "    print(\"The observed frequencies match the expected frequencies of a fair coin.\")\n",
    "    print(\"Fail to reject the null hypothesis: There is no evidence of bias towards tails.\")"
   ]
  },
  {
   "cell_type": "markdown",
   "id": "51841181-613d-46ae-bf25-bff23b0cad58",
   "metadata": {},
   "source": [
    "# ANSWER 9"
   ]
  },
  {
   "cell_type": "code",
   "execution_count": 13,
   "id": "ecc494c1-1f44-48c6-be61-77e91a7afffe",
   "metadata": {},
   "outputs": [
    {
     "name": "stdout",
     "output_type": "stream",
     "text": [
      "Chi-square statistic: 12.057347670250895\n",
      "P-value: 0.0005158863863703744\n",
      "There is a significant association between smoking status and lung cancer diagnosis.\n",
      "Reject the null hypothesis: Smoking status and lung cancer diagnosis are not independent.\n"
     ]
    }
   ],
   "source": [
    "observed_data = np.array([[60, 140],\n",
    "                          [30, 170]])\n",
    "#the chi-square test for independence\n",
    "chi2, p_value, _, _ = stats.chi2_contingency(observed_data)\n",
    "\n",
    "# the significance level\n",
    "alpha = 0.05\n",
    "\n",
    "print(\"Chi-square statistic:\", chi2)\n",
    "print(\"P-value:\", p_value)\n",
    "\n",
    "if p_value < alpha:\n",
    "    print(\"There is a significant association between smoking status and lung cancer diagnosis.\")\n",
    "    print(\"Reject the null hypothesis: Smoking status and lung cancer diagnosis are not independent.\")\n",
    "else:\n",
    "    print(\"There is no significant association between smoking status and lung cancer diagnosis.\")\n",
    "    print(\"Fail to reject the null hypothesis: Smoking status and lung cancer diagnosis are independent.\")"
   ]
  },
  {
   "cell_type": "markdown",
   "id": "2f52ab53-7b6f-4576-ae62-5dc39cda903c",
   "metadata": {},
   "source": [
    "# ANSWER 10"
   ]
  },
  {
   "cell_type": "code",
   "execution_count": 15,
   "id": "fb114240-2844-4b70-a8df-e0bfec5c478d",
   "metadata": {},
   "outputs": [
    {
     "name": "stdout",
     "output_type": "stream",
     "text": [
      "Chi-square statistic: 13.393665158371041\n",
      "P-value: 0.0012348168997745918\n",
      "There is a significant association between chocolate preference and country of origin.\n",
      "Reject the null hypothesis: Chocolate preference and country of origin are not independent.\n"
     ]
    }
   ],
   "source": [
    "observed_data = np.array([[200, 150, 150],\n",
    "                          [225, 175, 100]])\n",
    "#the chi-square test for independence\n",
    "chi2, p_value, _, _ = stats.chi2_contingency(observed_data)\n",
    "\n",
    "# the significance level\n",
    "alpha = 0.01\n",
    "\n",
    "print(\"Chi-square statistic:\", chi2)\n",
    "print(\"P-value:\", p_value)\n",
    "\n",
    "if p_value < alpha:\n",
    "    print(\"There is a significant association between chocolate preference and country of origin.\")\n",
    "    print(\"Reject the null hypothesis: Chocolate preference and country of origin are not independent.\")\n",
    "else:\n",
    "    print(\"There is no significant association between chocolate preference and country of origin.\")\n",
    "    print(\"Fail to reject the null hypothesis: Chocolate preference and country of origin are independent.\")"
   ]
  },
  {
   "cell_type": "markdown",
   "id": "b8157ce9-e507-415b-b7d6-f3ea9a01f410",
   "metadata": {},
   "source": [
    "# ANSWER 11"
   ]
  },
  {
   "cell_type": "code",
   "execution_count": 19,
   "id": "909d4a93-0bdc-4c3f-a0e0-2bb3cdcf8588",
   "metadata": {},
   "outputs": [
    {
     "name": "stdout",
     "output_type": "stream",
     "text": [
      "T-statistic: 1.0954451150103321\n",
      "P-value: 0.2823362372860698\n",
      "There is no significant difference between the population mean and 70.\n",
      "Fail to reject the null hypothesis: The population mean is 70.\n"
     ]
    }
   ],
   "source": [
    "sample_mean = 72\n",
    "sample_std_dev = 10\n",
    "sample_size = 30\n",
    "\n",
    "# Hypothesized population mean\n",
    "population_mean_hypothesis = 70\n",
    "\n",
    "# the standard error of the sample mean\n",
    "standard_error = sample_std_dev / (sample_size ** 0.5)\n",
    "\n",
    "# the t-statistic\n",
    "t_statistic = (sample_mean - population_mean_hypothesis) / standard_error\n",
    "\n",
    "# Degrees of freedom for the t-distribution\n",
    "degrees_of_freedom = sample_size - 1\n",
    "\n",
    "# the p-value (two-tailed test)\n",
    "p_value = 2 * (1 - stats.t.cdf(abs(t_statistic), df=degrees_of_freedom))\n",
    "\n",
    "#the significance level\n",
    "alpha = 0.05\n",
    "\n",
    "print(\"T-statistic:\", t_statistic)\n",
    "print(\"P-value:\", p_value)\n",
    "\n",
    "if p_value < alpha:\n",
    "    print(\"The population mean is significantly different from 70.\")\n",
    "    print(\"Reject the null hypothesis: The population mean is not 70.\")\n",
    "else:\n",
    "    print(\"There is no significant difference between the population mean and 70.\")\n",
    "    print(\"Fail to reject the null hypothesis: The population mean is 70.\")"
   ]
  },
  {
   "cell_type": "code",
   "execution_count": null,
   "id": "b8048131-eeb8-4087-b27b-e97f2898052c",
   "metadata": {},
   "outputs": [],
   "source": []
  },
  {
   "cell_type": "code",
   "execution_count": null,
   "id": "0ab911aa-44ef-49bf-b6ae-5c156c572baa",
   "metadata": {},
   "outputs": [],
   "source": []
  },
  {
   "cell_type": "code",
   "execution_count": null,
   "id": "7407decc-dcb1-45fc-9acf-68113fbb6bab",
   "metadata": {},
   "outputs": [],
   "source": []
  }
 ],
 "metadata": {
  "kernelspec": {
   "display_name": "Python 3 (ipykernel)",
   "language": "python",
   "name": "python3"
  },
  "language_info": {
   "codemirror_mode": {
    "name": "ipython",
    "version": 3
   },
   "file_extension": ".py",
   "mimetype": "text/x-python",
   "name": "python",
   "nbconvert_exporter": "python",
   "pygments_lexer": "ipython3",
   "version": "3.10.8"
  }
 },
 "nbformat": 4,
 "nbformat_minor": 5
}
